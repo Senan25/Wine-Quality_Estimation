{
 "cells": [
  {
   "cell_type": "markdown",
   "metadata": {},
   "source": [
    "### Importing libraries"
   ]
  },
  {
   "cell_type": "code",
   "execution_count": 13,
   "metadata": {},
   "outputs": [],
   "source": [
    "import numpy as np\n",
    "import pandas as pd\n",
    "import matplotlib.pyplot as plt\n",
    "%matplotlib inline\n",
    "import seaborn as sns\n",
    "import sklearn.model_selection as sms\n",
    "import sklearn.preprocessing as sp\n",
    "import sklearn.linear_model as slm\n",
    "import sklearn.metrics as sm\n",
    "import sklearn.ensemble as ens\n",
    "from warnings import filterwarnings \n",
    "filterwarnings('ignore') # to ignore warnings\n",
    "import sklearn.linear_model as slm\n",
    "from sklearn import svm\n",
    "from sklearn.preprocessing import RobustScaler\n",
    "from xgboost import XGBClassifier, XGBRFClassifier"
   ]
  },
  {
   "cell_type": "markdown",
   "metadata": {},
   "source": [
    "### Loading data"
   ]
  },
  {
   "cell_type": "code",
   "execution_count": 5,
   "metadata": {},
   "outputs": [
    {
     "data": {
      "text/html": [
       "<div>\n",
       "<style scoped>\n",
       "    .dataframe tbody tr th:only-of-type {\n",
       "        vertical-align: middle;\n",
       "    }\n",
       "\n",
       "    .dataframe tbody tr th {\n",
       "        vertical-align: top;\n",
       "    }\n",
       "\n",
       "    .dataframe thead th {\n",
       "        text-align: right;\n",
       "    }\n",
       "</style>\n",
       "<table border=\"1\" class=\"dataframe\">\n",
       "  <thead>\n",
       "    <tr style=\"text-align: right;\">\n",
       "      <th></th>\n",
       "      <th>fixed acid</th>\n",
       "      <th>volatile acid</th>\n",
       "      <th>citric acid</th>\n",
       "      <th>residual sugar</th>\n",
       "      <th>chlorid</th>\n",
       "      <th>free sulfur dioxide</th>\n",
       "      <th>sum of sulfur dioxide</th>\n",
       "      <th>density</th>\n",
       "      <th>pH</th>\n",
       "      <th>sulphates</th>\n",
       "      <th>alcohol</th>\n",
       "      <th>quality</th>\n",
       "      <th>Id</th>\n",
       "    </tr>\n",
       "  </thead>\n",
       "  <tbody>\n",
       "    <tr>\n",
       "      <th>0</th>\n",
       "      <td>7.4</td>\n",
       "      <td>0.70</td>\n",
       "      <td>0.00</td>\n",
       "      <td>1.9</td>\n",
       "      <td>0.076</td>\n",
       "      <td>11.0</td>\n",
       "      <td>34.0</td>\n",
       "      <td>0.9978</td>\n",
       "      <td>3.51</td>\n",
       "      <td>0.56</td>\n",
       "      <td>9.4</td>\n",
       "      <td>5</td>\n",
       "      <td>0</td>\n",
       "    </tr>\n",
       "    <tr>\n",
       "      <th>1</th>\n",
       "      <td>7.8</td>\n",
       "      <td>0.88</td>\n",
       "      <td>0.00</td>\n",
       "      <td>2.6</td>\n",
       "      <td>0.098</td>\n",
       "      <td>25.0</td>\n",
       "      <td>67.0</td>\n",
       "      <td>0.9968</td>\n",
       "      <td>3.20</td>\n",
       "      <td>0.68</td>\n",
       "      <td>9.8</td>\n",
       "      <td>5</td>\n",
       "      <td>1</td>\n",
       "    </tr>\n",
       "    <tr>\n",
       "      <th>2</th>\n",
       "      <td>7.8</td>\n",
       "      <td>0.76</td>\n",
       "      <td>0.04</td>\n",
       "      <td>2.3</td>\n",
       "      <td>0.092</td>\n",
       "      <td>15.0</td>\n",
       "      <td>54.0</td>\n",
       "      <td>0.9970</td>\n",
       "      <td>3.26</td>\n",
       "      <td>0.65</td>\n",
       "      <td>9.8</td>\n",
       "      <td>5</td>\n",
       "      <td>2</td>\n",
       "    </tr>\n",
       "    <tr>\n",
       "      <th>3</th>\n",
       "      <td>11.2</td>\n",
       "      <td>0.28</td>\n",
       "      <td>0.56</td>\n",
       "      <td>1.9</td>\n",
       "      <td>0.075</td>\n",
       "      <td>17.0</td>\n",
       "      <td>60.0</td>\n",
       "      <td>0.9980</td>\n",
       "      <td>3.16</td>\n",
       "      <td>0.58</td>\n",
       "      <td>9.8</td>\n",
       "      <td>6</td>\n",
       "      <td>3</td>\n",
       "    </tr>\n",
       "    <tr>\n",
       "      <th>4</th>\n",
       "      <td>7.4</td>\n",
       "      <td>0.70</td>\n",
       "      <td>0.00</td>\n",
       "      <td>1.9</td>\n",
       "      <td>0.076</td>\n",
       "      <td>11.0</td>\n",
       "      <td>34.0</td>\n",
       "      <td>0.9978</td>\n",
       "      <td>3.51</td>\n",
       "      <td>0.56</td>\n",
       "      <td>9.4</td>\n",
       "      <td>5</td>\n",
       "      <td>4</td>\n",
       "    </tr>\n",
       "  </tbody>\n",
       "</table>\n",
       "</div>"
      ],
      "text/plain": [
       "   fixed acid  volatile acid  citric acid  ...  alcohol  quality  Id\n",
       "0         7.4           0.70         0.00  ...      9.4        5   0\n",
       "1         7.8           0.88         0.00  ...      9.8        5   1\n",
       "2         7.8           0.76         0.04  ...      9.8        5   2\n",
       "3        11.2           0.28         0.56  ...      9.8        6   3\n",
       "4         7.4           0.70         0.00  ...      9.4        5   4\n",
       "\n",
       "[5 rows x 13 columns]"
      ]
     },
     "execution_count": 5,
     "metadata": {},
     "output_type": "execute_result"
    }
   ],
   "source": [
    "df=pd.read_csv(\"Wine.csv\")\n",
    "df.head()"
   ]
  },
  {
   "cell_type": "markdown",
   "metadata": {},
   "source": [
    "### Preprocessing"
   ]
  },
  {
   "cell_type": "code",
   "execution_count": 6,
   "metadata": {},
   "outputs": [
    {
     "data": {
      "text/html": [
       "<div>\n",
       "<style scoped>\n",
       "    .dataframe tbody tr th:only-of-type {\n",
       "        vertical-align: middle;\n",
       "    }\n",
       "\n",
       "    .dataframe tbody tr th {\n",
       "        vertical-align: top;\n",
       "    }\n",
       "\n",
       "    .dataframe thead th {\n",
       "        text-align: right;\n",
       "    }\n",
       "</style>\n",
       "<table border=\"1\" class=\"dataframe\">\n",
       "  <thead>\n",
       "    <tr style=\"text-align: right;\">\n",
       "      <th></th>\n",
       "      <th>fixed acid</th>\n",
       "      <th>volatile acid</th>\n",
       "      <th>citric acid</th>\n",
       "      <th>residual sugar</th>\n",
       "      <th>chlorid</th>\n",
       "      <th>free sulfur dioxide</th>\n",
       "      <th>sum of sulfur dioxide</th>\n",
       "      <th>density</th>\n",
       "      <th>pH</th>\n",
       "      <th>sulphates</th>\n",
       "      <th>alcohol</th>\n",
       "      <th>quality</th>\n",
       "      <th>Id</th>\n",
       "    </tr>\n",
       "  </thead>\n",
       "  <tbody>\n",
       "  </tbody>\n",
       "</table>\n",
       "</div>"
      ],
      "text/plain": [
       "Empty DataFrame\n",
       "Columns: [fixed acid, volatile acid, citric acid, residual sugar, chlorid, free sulfur dioxide, sum of sulfur dioxide, density, pH, sulphates, alcohol, quality, Id]\n",
       "Index: []"
      ]
     },
     "execution_count": 6,
     "metadata": {},
     "output_type": "execute_result"
    }
   ],
   "source": [
    "df[df.duplicated()]\n",
    "# no suplicates to remove"
   ]
  },
  {
   "cell_type": "code",
   "execution_count": 7,
   "metadata": {
    "scrolled": true
   },
   "outputs": [
    {
     "name": "stdout",
     "output_type": "stream",
     "text": [
      "<class 'pandas.core.frame.DataFrame'>\n",
      "RangeIndex: 1143 entries, 0 to 1142\n",
      "Data columns (total 13 columns):\n",
      " #   Column                 Non-Null Count  Dtype  \n",
      "---  ------                 --------------  -----  \n",
      " 0   fixed acid             1143 non-null   float64\n",
      " 1   volatile acid          1143 non-null   float64\n",
      " 2   citric acid            1143 non-null   float64\n",
      " 3   residual sugar         1143 non-null   float64\n",
      " 4   chlorid                1143 non-null   float64\n",
      " 5   free sulfur dioxide    1143 non-null   float64\n",
      " 6   sum of sulfur dioxide  1143 non-null   float64\n",
      " 7   density                1143 non-null   float64\n",
      " 8   pH                     1143 non-null   float64\n",
      " 9   sulphates              1143 non-null   float64\n",
      " 10  alcohol                1143 non-null   float64\n",
      " 11  quality                1143 non-null   int64  \n",
      " 12  Id                     1143 non-null   int64  \n",
      "dtypes: float64(11), int64(2)\n",
      "memory usage: 116.2 KB\n"
     ]
    }
   ],
   "source": [
    "df.info()"
   ]
  },
  {
   "cell_type": "code",
   "execution_count": 52,
   "metadata": {},
   "outputs": [
    {
     "data": {
      "text/plain": [
       "5    483\n",
       "6    462\n",
       "7    143\n",
       "4     33\n",
       "8     16\n",
       "3      6\n",
       "Name: quality, dtype: int64"
      ]
     },
     "execution_count": 52,
     "metadata": {},
     "output_type": "execute_result"
    }
   ],
   "source": [
    "df['quality'].value_counts()"
   ]
  },
  {
   "cell_type": "code",
   "execution_count": 9,
   "metadata": {},
   "outputs": [
    {
     "data": {
      "text/html": [
       "<div>\n",
       "<style scoped>\n",
       "    .dataframe tbody tr th:only-of-type {\n",
       "        vertical-align: middle;\n",
       "    }\n",
       "\n",
       "    .dataframe tbody tr th {\n",
       "        vertical-align: top;\n",
       "    }\n",
       "\n",
       "    .dataframe thead th {\n",
       "        text-align: right;\n",
       "    }\n",
       "</style>\n",
       "<table border=\"1\" class=\"dataframe\">\n",
       "  <thead>\n",
       "    <tr style=\"text-align: right;\">\n",
       "      <th></th>\n",
       "      <th>fixed acid</th>\n",
       "      <th>volatile acid</th>\n",
       "      <th>citric acid</th>\n",
       "      <th>residual sugar</th>\n",
       "      <th>chlorid</th>\n",
       "      <th>free sulfur dioxide</th>\n",
       "      <th>sum of sulfur dioxide</th>\n",
       "      <th>density</th>\n",
       "      <th>pH</th>\n",
       "      <th>sulphates</th>\n",
       "      <th>alcohol</th>\n",
       "      <th>quality</th>\n",
       "      <th>Id</th>\n",
       "    </tr>\n",
       "  </thead>\n",
       "  <tbody>\n",
       "    <tr>\n",
       "      <th>count</th>\n",
       "      <td>1143.000000</td>\n",
       "      <td>1143.000000</td>\n",
       "      <td>1143.000000</td>\n",
       "      <td>1143.000000</td>\n",
       "      <td>1143.000000</td>\n",
       "      <td>1143.000000</td>\n",
       "      <td>1143.000000</td>\n",
       "      <td>1143.000000</td>\n",
       "      <td>1143.000000</td>\n",
       "      <td>1143.000000</td>\n",
       "      <td>1143.000000</td>\n",
       "      <td>1143.000000</td>\n",
       "      <td>1143.000000</td>\n",
       "    </tr>\n",
       "    <tr>\n",
       "      <th>mean</th>\n",
       "      <td>8.311111</td>\n",
       "      <td>0.531339</td>\n",
       "      <td>0.268364</td>\n",
       "      <td>2.532152</td>\n",
       "      <td>0.086933</td>\n",
       "      <td>15.615486</td>\n",
       "      <td>45.914698</td>\n",
       "      <td>0.996730</td>\n",
       "      <td>3.311015</td>\n",
       "      <td>0.657708</td>\n",
       "      <td>10.442111</td>\n",
       "      <td>5.657043</td>\n",
       "      <td>804.969379</td>\n",
       "    </tr>\n",
       "    <tr>\n",
       "      <th>std</th>\n",
       "      <td>1.747595</td>\n",
       "      <td>0.179633</td>\n",
       "      <td>0.196686</td>\n",
       "      <td>1.355917</td>\n",
       "      <td>0.047267</td>\n",
       "      <td>10.250486</td>\n",
       "      <td>32.782130</td>\n",
       "      <td>0.001925</td>\n",
       "      <td>0.156664</td>\n",
       "      <td>0.170399</td>\n",
       "      <td>1.082196</td>\n",
       "      <td>0.805824</td>\n",
       "      <td>463.997116</td>\n",
       "    </tr>\n",
       "    <tr>\n",
       "      <th>min</th>\n",
       "      <td>4.600000</td>\n",
       "      <td>0.120000</td>\n",
       "      <td>0.000000</td>\n",
       "      <td>0.900000</td>\n",
       "      <td>0.012000</td>\n",
       "      <td>1.000000</td>\n",
       "      <td>6.000000</td>\n",
       "      <td>0.990070</td>\n",
       "      <td>2.740000</td>\n",
       "      <td>0.330000</td>\n",
       "      <td>8.400000</td>\n",
       "      <td>3.000000</td>\n",
       "      <td>0.000000</td>\n",
       "    </tr>\n",
       "    <tr>\n",
       "      <th>25%</th>\n",
       "      <td>7.100000</td>\n",
       "      <td>0.392500</td>\n",
       "      <td>0.090000</td>\n",
       "      <td>1.900000</td>\n",
       "      <td>0.070000</td>\n",
       "      <td>7.000000</td>\n",
       "      <td>21.000000</td>\n",
       "      <td>0.995570</td>\n",
       "      <td>3.205000</td>\n",
       "      <td>0.550000</td>\n",
       "      <td>9.500000</td>\n",
       "      <td>5.000000</td>\n",
       "      <td>411.000000</td>\n",
       "    </tr>\n",
       "    <tr>\n",
       "      <th>50%</th>\n",
       "      <td>7.900000</td>\n",
       "      <td>0.520000</td>\n",
       "      <td>0.250000</td>\n",
       "      <td>2.200000</td>\n",
       "      <td>0.079000</td>\n",
       "      <td>13.000000</td>\n",
       "      <td>37.000000</td>\n",
       "      <td>0.996680</td>\n",
       "      <td>3.310000</td>\n",
       "      <td>0.620000</td>\n",
       "      <td>10.200000</td>\n",
       "      <td>6.000000</td>\n",
       "      <td>794.000000</td>\n",
       "    </tr>\n",
       "    <tr>\n",
       "      <th>75%</th>\n",
       "      <td>9.100000</td>\n",
       "      <td>0.640000</td>\n",
       "      <td>0.420000</td>\n",
       "      <td>2.600000</td>\n",
       "      <td>0.090000</td>\n",
       "      <td>21.000000</td>\n",
       "      <td>61.000000</td>\n",
       "      <td>0.997845</td>\n",
       "      <td>3.400000</td>\n",
       "      <td>0.730000</td>\n",
       "      <td>11.100000</td>\n",
       "      <td>6.000000</td>\n",
       "      <td>1209.500000</td>\n",
       "    </tr>\n",
       "    <tr>\n",
       "      <th>max</th>\n",
       "      <td>15.900000</td>\n",
       "      <td>1.580000</td>\n",
       "      <td>1.000000</td>\n",
       "      <td>15.500000</td>\n",
       "      <td>0.611000</td>\n",
       "      <td>68.000000</td>\n",
       "      <td>289.000000</td>\n",
       "      <td>1.003690</td>\n",
       "      <td>4.010000</td>\n",
       "      <td>2.000000</td>\n",
       "      <td>14.900000</td>\n",
       "      <td>8.000000</td>\n",
       "      <td>1597.000000</td>\n",
       "    </tr>\n",
       "  </tbody>\n",
       "</table>\n",
       "</div>"
      ],
      "text/plain": [
       "        fixed acid  volatile acid  ...      quality           Id\n",
       "count  1143.000000    1143.000000  ...  1143.000000  1143.000000\n",
       "mean      8.311111       0.531339  ...     5.657043   804.969379\n",
       "std       1.747595       0.179633  ...     0.805824   463.997116\n",
       "min       4.600000       0.120000  ...     3.000000     0.000000\n",
       "25%       7.100000       0.392500  ...     5.000000   411.000000\n",
       "50%       7.900000       0.520000  ...     6.000000   794.000000\n",
       "75%       9.100000       0.640000  ...     6.000000  1209.500000\n",
       "max      15.900000       1.580000  ...     8.000000  1597.000000\n",
       "\n",
       "[8 rows x 13 columns]"
      ]
     },
     "execution_count": 9,
     "metadata": {},
     "output_type": "execute_result"
    }
   ],
   "source": [
    "df.describe()"
   ]
  },
  {
   "cell_type": "code",
   "execution_count": 12,
   "metadata": {},
   "outputs": [
    {
     "data": {
      "image/png": "[encoded data removed]",
      "text/plain": [
       "<Figure size 720x360 with 2 Axes>"
      ]
     },
     "metadata": {
      "needs_background": "light"
     },
     "output_type": "display_data"
    }
   ],
   "source": [
    "plt.figure(figsize=(10, 5))\n",
    "sns.heatmap(df.corr(), cmap=\"Blues\", annot=True)\n",
    "plt.show()"
   ]
  },
  {
   "cell_type": "markdown",
   "metadata": {},
   "source": [
    "### Splitting data"
   ]
  },
  {
   "cell_type": "code",
   "execution_count": 14,
   "metadata": {},
   "outputs": [
    {
     "data": {
      "text/plain": [
       "Index(['fixed acid', 'volatile acid', 'citric acid', 'residual sugar',\n",
       "       'chlorid', 'free sulfur dioxide', 'sum of sulfur dioxide', 'density',\n",
       "       'pH', 'sulphates', 'alcohol', 'quality', 'Id'],\n",
       "      dtype='object')"
      ]
     },
     "execution_count": 14,
     "metadata": {},
     "output_type": "execute_result"
    }
   ],
   "source": [
    "df.columns"
   ]
  },
  {
   "cell_type": "markdown",
   "metadata": {},
   "source": [
    "**\"alcohol\"** is direct indicator of **\"wine quality\"**, as well as *'Id'* display row order, we can not use it as *input feature*"
   ]
  },
  {
   "cell_type": "code",
   "execution_count": 15,
   "metadata": {},
   "outputs": [],
   "source": [
    "X = df.drop(columns=['quality', 'Id'])\n",
    "y = df[['quality']]"
   ]
  },
  {
   "cell_type": "code",
   "execution_count": 17,
   "metadata": {},
   "outputs": [
    {
     "name": "stdout",
     "output_type": "stream",
     "text": [
      "(857, 11) (286, 11) (857, 1) (286, 1)\n"
     ]
    }
   ],
   "source": [
    "x_train, x_test, y_train, y_test = sms.train_test_split(X, y, test_size=0.25, random_state=25)\n",
    "print(x_train.shape, x_test.shape, y_train.shape, y_test.shape)"
   ]
  },
  {
   "cell_type": "markdown",
   "metadata": {},
   "source": [
    "#### Data normalization(scaling)"
   ]
  },
  {
   "cell_type": "code",
   "execution_count": 18,
   "metadata": {},
   "outputs": [
    {
     "data": {
      "text/plain": [
       "['fixed acid',\n",
       " 'volatile acid',\n",
       " 'citric acid',\n",
       " 'residual sugar',\n",
       " 'chlorid',\n",
       " 'free sulfur dioxide',\n",
       " 'sum of sulfur dioxide',\n",
       " 'density',\n",
       " 'pH',\n",
       " 'sulphates',\n",
       " 'alcohol']"
      ]
     },
     "execution_count": 18,
     "metadata": {},
     "output_type": "execute_result"
    }
   ],
   "source": [
    "feature_names = list(x_train.columns)\n",
    "feature_names"
   ]
  },
  {
   "cell_type": "code",
   "execution_count": 21,
   "metadata": {},
   "outputs": [
    {
     "data": {
      "text/html": [
       "<div>\n",
       "<style scoped>\n",
       "    .dataframe tbody tr th:only-of-type {\n",
       "        vertical-align: middle;\n",
       "    }\n",
       "\n",
       "    .dataframe tbody tr th {\n",
       "        vertical-align: top;\n",
       "    }\n",
       "\n",
       "    .dataframe thead th {\n",
       "        text-align: right;\n",
       "    }\n",
       "</style>\n",
       "<table border=\"1\" class=\"dataframe\">\n",
       "  <thead>\n",
       "    <tr style=\"text-align: right;\">\n",
       "      <th></th>\n",
       "      <th>fixed acid</th>\n",
       "      <th>volatile acid</th>\n",
       "      <th>citric acid</th>\n",
       "      <th>residual sugar</th>\n",
       "      <th>chlorid</th>\n",
       "      <th>free sulfur dioxide</th>\n",
       "      <th>sum of sulfur dioxide</th>\n",
       "      <th>density</th>\n",
       "      <th>pH</th>\n",
       "      <th>sulphates</th>\n",
       "      <th>alcohol</th>\n",
       "    </tr>\n",
       "  </thead>\n",
       "  <tbody>\n",
       "    <tr>\n",
       "      <th>0</th>\n",
       "      <td>-0.35</td>\n",
       "      <td>-0.12</td>\n",
       "      <td>-0.242424</td>\n",
       "      <td>-0.142857</td>\n",
       "      <td>-0.40</td>\n",
       "      <td>-0.153846</td>\n",
       "      <td>-0.179487</td>\n",
       "      <td>0.406250</td>\n",
       "      <td>1.105263</td>\n",
       "      <td>0.555556</td>\n",
       "      <td>-0.3125</td>\n",
       "    </tr>\n",
       "    <tr>\n",
       "      <th>1</th>\n",
       "      <td>0.25</td>\n",
       "      <td>0.56</td>\n",
       "      <td>-0.212121</td>\n",
       "      <td>0.000000</td>\n",
       "      <td>0.70</td>\n",
       "      <td>-0.230769</td>\n",
       "      <td>0.948718</td>\n",
       "      <td>0.294643</td>\n",
       "      <td>-0.578947</td>\n",
       "      <td>-0.166667</td>\n",
       "      <td>-0.5625</td>\n",
       "    </tr>\n",
       "    <tr>\n",
       "      <th>2</th>\n",
       "      <td>-0.55</td>\n",
       "      <td>0.36</td>\n",
       "      <td>-0.545455</td>\n",
       "      <td>-0.428571</td>\n",
       "      <td>-0.55</td>\n",
       "      <td>1.076923</td>\n",
       "      <td>0.000000</td>\n",
       "      <td>-0.084821</td>\n",
       "      <td>0.578947</td>\n",
       "      <td>1.111111</td>\n",
       "      <td>-0.3750</td>\n",
       "    </tr>\n",
       "    <tr>\n",
       "      <th>3</th>\n",
       "      <td>-0.35</td>\n",
       "      <td>0.00</td>\n",
       "      <td>-0.393939</td>\n",
       "      <td>-0.285714</td>\n",
       "      <td>-1.05</td>\n",
       "      <td>0.307692</td>\n",
       "      <td>-0.410256</td>\n",
       "      <td>-0.433036</td>\n",
       "      <td>-0.526316</td>\n",
       "      <td>0.333333</td>\n",
       "      <td>-0.1250</td>\n",
       "    </tr>\n",
       "    <tr>\n",
       "      <th>4</th>\n",
       "      <td>-0.45</td>\n",
       "      <td>0.36</td>\n",
       "      <td>-0.484848</td>\n",
       "      <td>-1.142857</td>\n",
       "      <td>-0.40</td>\n",
       "      <td>1.000000</td>\n",
       "      <td>0.641026</td>\n",
       "      <td>-0.312500</td>\n",
       "      <td>-0.157895</td>\n",
       "      <td>-0.055556</td>\n",
       "      <td>-0.5625</td>\n",
       "    </tr>\n",
       "    <tr>\n",
       "      <th>...</th>\n",
       "      <td>...</td>\n",
       "      <td>...</td>\n",
       "      <td>...</td>\n",
       "      <td>...</td>\n",
       "      <td>...</td>\n",
       "      <td>...</td>\n",
       "      <td>...</td>\n",
       "      <td>...</td>\n",
       "      <td>...</td>\n",
       "      <td>...</td>\n",
       "      <td>...</td>\n",
       "    </tr>\n",
       "    <tr>\n",
       "      <th>852</th>\n",
       "      <td>0.15</td>\n",
       "      <td>0.68</td>\n",
       "      <td>-0.090909</td>\n",
       "      <td>-0.285714</td>\n",
       "      <td>1.00</td>\n",
       "      <td>0.000000</td>\n",
       "      <td>1.102564</td>\n",
       "      <td>0.267857</td>\n",
       "      <td>-0.631579</td>\n",
       "      <td>0.444444</td>\n",
       "      <td>-0.4375</td>\n",
       "    </tr>\n",
       "    <tr>\n",
       "      <th>853</th>\n",
       "      <td>-0.05</td>\n",
       "      <td>0.68</td>\n",
       "      <td>-0.606061</td>\n",
       "      <td>-0.428571</td>\n",
       "      <td>0.00</td>\n",
       "      <td>0.461538</td>\n",
       "      <td>-0.076923</td>\n",
       "      <td>-0.187500</td>\n",
       "      <td>0.473684</td>\n",
       "      <td>0.388889</td>\n",
       "      <td>0.5000</td>\n",
       "    </tr>\n",
       "    <tr>\n",
       "      <th>854</th>\n",
       "      <td>0.85</td>\n",
       "      <td>-0.84</td>\n",
       "      <td>0.636364</td>\n",
       "      <td>-1.142857</td>\n",
       "      <td>-1.15</td>\n",
       "      <td>-0.384615</td>\n",
       "      <td>-0.358974</td>\n",
       "      <td>0.111607</td>\n",
       "      <td>-0.473684</td>\n",
       "      <td>1.111111</td>\n",
       "      <td>0.1250</td>\n",
       "    </tr>\n",
       "    <tr>\n",
       "      <th>855</th>\n",
       "      <td>1.70</td>\n",
       "      <td>-0.76</td>\n",
       "      <td>0.575758</td>\n",
       "      <td>-0.285714</td>\n",
       "      <td>0.15</td>\n",
       "      <td>-0.615385</td>\n",
       "      <td>-0.589744</td>\n",
       "      <td>0.937500</td>\n",
       "      <td>-1.947368</td>\n",
       "      <td>0.222222</td>\n",
       "      <td>-0.5625</td>\n",
       "    </tr>\n",
       "    <tr>\n",
       "      <th>856</th>\n",
       "      <td>-0.55</td>\n",
       "      <td>0.12</td>\n",
       "      <td>-0.696970</td>\n",
       "      <td>-0.714286</td>\n",
       "      <td>0.25</td>\n",
       "      <td>0.307692</td>\n",
       "      <td>-0.076923</td>\n",
       "      <td>0.044643</td>\n",
       "      <td>0.684211</td>\n",
       "      <td>0.055556</td>\n",
       "      <td>-0.0625</td>\n",
       "    </tr>\n",
       "  </tbody>\n",
       "</table>\n",
       "<p>857 rows × 11 columns</p>\n",
       "</div>"
      ],
      "text/plain": [
       "     fixed acid  volatile acid  citric acid  ...        pH  sulphates  alcohol\n",
       "0         -0.35          -0.12    -0.242424  ...  1.105263   0.555556  -0.3125\n",
       "1          0.25           0.56    -0.212121  ... -0.578947  -0.166667  -0.5625\n",
       "2         -0.55           0.36    -0.545455  ...  0.578947   1.111111  -0.3750\n",
       "3         -0.35           0.00    -0.393939  ... -0.526316   0.333333  -0.1250\n",
       "4         -0.45           0.36    -0.484848  ... -0.157895  -0.055556  -0.5625\n",
       "..          ...            ...          ...  ...       ...        ...      ...\n",
       "852        0.15           0.68    -0.090909  ... -0.631579   0.444444  -0.4375\n",
       "853       -0.05           0.68    -0.606061  ...  0.473684   0.388889   0.5000\n",
       "854        0.85          -0.84     0.636364  ... -0.473684   1.111111   0.1250\n",
       "855        1.70          -0.76     0.575758  ... -1.947368   0.222222  -0.5625\n",
       "856       -0.55           0.12    -0.696970  ...  0.684211   0.055556  -0.0625\n",
       "\n",
       "[857 rows x 11 columns]"
      ]
     },
     "execution_count": 21,
     "metadata": {},
     "output_type": "execute_result"
    }
   ],
   "source": [
    "rb = RobustScaler()\n",
    "x_train = pd.DataFrame(rb.fit_transform(x_train), columns=feature_names)\n",
    "x_train"
   ]
  },
  {
   "cell_type": "code",
   "execution_count": 23,
   "metadata": {},
   "outputs": [
    {
     "data": {
      "text/html": [
       "<div>\n",
       "<style scoped>\n",
       "    .dataframe tbody tr th:only-of-type {\n",
       "        vertical-align: middle;\n",
       "    }\n",
       "\n",
       "    .dataframe tbody tr th {\n",
       "        vertical-align: top;\n",
       "    }\n",
       "\n",
       "    .dataframe thead th {\n",
       "        text-align: right;\n",
       "    }\n",
       "</style>\n",
       "<table border=\"1\" class=\"dataframe\">\n",
       "  <thead>\n",
       "    <tr style=\"text-align: right;\">\n",
       "      <th></th>\n",
       "      <th>fixed acid</th>\n",
       "      <th>volatile acid</th>\n",
       "      <th>citric acid</th>\n",
       "      <th>residual sugar</th>\n",
       "      <th>chlorid</th>\n",
       "      <th>free sulfur dioxide</th>\n",
       "      <th>sum of sulfur dioxide</th>\n",
       "      <th>density</th>\n",
       "      <th>pH</th>\n",
       "      <th>sulphates</th>\n",
       "      <th>alcohol</th>\n",
       "    </tr>\n",
       "  </thead>\n",
       "  <tbody>\n",
       "    <tr>\n",
       "      <th>0</th>\n",
       "      <td>-0.25</td>\n",
       "      <td>-0.48</td>\n",
       "      <td>-0.060606</td>\n",
       "      <td>-0.571429</td>\n",
       "      <td>-0.65</td>\n",
       "      <td>0.307692</td>\n",
       "      <td>0.230769</td>\n",
       "      <td>-0.491071</td>\n",
       "      <td>0.315789</td>\n",
       "      <td>0.000000</td>\n",
       "      <td>0.1875</td>\n",
       "    </tr>\n",
       "    <tr>\n",
       "      <th>1</th>\n",
       "      <td>1.75</td>\n",
       "      <td>0.28</td>\n",
       "      <td>0.696970</td>\n",
       "      <td>0.714286</td>\n",
       "      <td>0.30</td>\n",
       "      <td>-0.307692</td>\n",
       "      <td>0.076923</td>\n",
       "      <td>1.205357</td>\n",
       "      <td>-0.842105</td>\n",
       "      <td>0.055556</td>\n",
       "      <td>0.2500</td>\n",
       "    </tr>\n",
       "    <tr>\n",
       "      <th>2</th>\n",
       "      <td>0.15</td>\n",
       "      <td>0.42</td>\n",
       "      <td>-0.484848</td>\n",
       "      <td>-0.142857</td>\n",
       "      <td>-0.30</td>\n",
       "      <td>0.846154</td>\n",
       "      <td>0.564103</td>\n",
       "      <td>-0.142857</td>\n",
       "      <td>-0.105263</td>\n",
       "      <td>0.722222</td>\n",
       "      <td>0.5000</td>\n",
       "    </tr>\n",
       "    <tr>\n",
       "      <th>3</th>\n",
       "      <td>0.05</td>\n",
       "      <td>-0.60</td>\n",
       "      <td>-0.606061</td>\n",
       "      <td>-0.571429</td>\n",
       "      <td>-0.05</td>\n",
       "      <td>-0.153846</td>\n",
       "      <td>0.282051</td>\n",
       "      <td>-0.200893</td>\n",
       "      <td>0.315789</td>\n",
       "      <td>-0.555556</td>\n",
       "      <td>-0.1250</td>\n",
       "    </tr>\n",
       "    <tr>\n",
       "      <th>4</th>\n",
       "      <td>-0.05</td>\n",
       "      <td>0.00</td>\n",
       "      <td>-0.666667</td>\n",
       "      <td>-0.714286</td>\n",
       "      <td>-0.15</td>\n",
       "      <td>0.230769</td>\n",
       "      <td>-0.179487</td>\n",
       "      <td>-0.133929</td>\n",
       "      <td>0.105263</td>\n",
       "      <td>-0.333333</td>\n",
       "      <td>-0.0625</td>\n",
       "    </tr>\n",
       "    <tr>\n",
       "      <th>...</th>\n",
       "      <td>...</td>\n",
       "      <td>...</td>\n",
       "      <td>...</td>\n",
       "      <td>...</td>\n",
       "      <td>...</td>\n",
       "      <td>...</td>\n",
       "      <td>...</td>\n",
       "      <td>...</td>\n",
       "      <td>...</td>\n",
       "      <td>...</td>\n",
       "      <td>...</td>\n",
       "    </tr>\n",
       "    <tr>\n",
       "      <th>281</th>\n",
       "      <td>1.35</td>\n",
       "      <td>-0.12</td>\n",
       "      <td>0.575758</td>\n",
       "      <td>0.571429</td>\n",
       "      <td>2.00</td>\n",
       "      <td>1.538462</td>\n",
       "      <td>0.769231</td>\n",
       "      <td>0.169643</td>\n",
       "      <td>-0.421053</td>\n",
       "      <td>0.555556</td>\n",
       "      <td>0.5000</td>\n",
       "    </tr>\n",
       "    <tr>\n",
       "      <th>282</th>\n",
       "      <td>1.05</td>\n",
       "      <td>-0.88</td>\n",
       "      <td>0.636364</td>\n",
       "      <td>0.571429</td>\n",
       "      <td>0.30</td>\n",
       "      <td>0.000000</td>\n",
       "      <td>-0.128205</td>\n",
       "      <td>1.316964</td>\n",
       "      <td>0.263158</td>\n",
       "      <td>1.000000</td>\n",
       "      <td>0.2500</td>\n",
       "    </tr>\n",
       "    <tr>\n",
       "      <th>283</th>\n",
       "      <td>0.40</td>\n",
       "      <td>-0.80</td>\n",
       "      <td>0.363636</td>\n",
       "      <td>1.571429</td>\n",
       "      <td>-0.80</td>\n",
       "      <td>-0.307692</td>\n",
       "      <td>-0.487179</td>\n",
       "      <td>-0.901786</td>\n",
       "      <td>-0.052632</td>\n",
       "      <td>0.611111</td>\n",
       "      <td>1.1875</td>\n",
       "    </tr>\n",
       "    <tr>\n",
       "      <th>284</th>\n",
       "      <td>0.35</td>\n",
       "      <td>-0.64</td>\n",
       "      <td>1.181818</td>\n",
       "      <td>6.000000</td>\n",
       "      <td>0.05</td>\n",
       "      <td>-0.846154</td>\n",
       "      <td>-0.769231</td>\n",
       "      <td>0.656250</td>\n",
       "      <td>-0.210526</td>\n",
       "      <td>-0.222222</td>\n",
       "      <td>0.5625</td>\n",
       "    </tr>\n",
       "    <tr>\n",
       "      <th>285</th>\n",
       "      <td>-0.80</td>\n",
       "      <td>-0.56</td>\n",
       "      <td>-0.303030</td>\n",
       "      <td>-1.142857</td>\n",
       "      <td>0.05</td>\n",
       "      <td>-0.230769</td>\n",
       "      <td>-0.384615</td>\n",
       "      <td>-0.535714</td>\n",
       "      <td>0.157895</td>\n",
       "      <td>-0.333333</td>\n",
       "      <td>-0.5000</td>\n",
       "    </tr>\n",
       "  </tbody>\n",
       "</table>\n",
       "<p>286 rows × 11 columns</p>\n",
       "</div>"
      ],
      "text/plain": [
       "     fixed acid  volatile acid  citric acid  ...        pH  sulphates  alcohol\n",
       "0         -0.25          -0.48    -0.060606  ...  0.315789   0.000000   0.1875\n",
       "1          1.75           0.28     0.696970  ... -0.842105   0.055556   0.2500\n",
       "2          0.15           0.42    -0.484848  ... -0.105263   0.722222   0.5000\n",
       "3          0.05          -0.60    -0.606061  ...  0.315789  -0.555556  -0.1250\n",
       "4         -0.05           0.00    -0.666667  ...  0.105263  -0.333333  -0.0625\n",
       "..          ...            ...          ...  ...       ...        ...      ...\n",
       "281        1.35          -0.12     0.575758  ... -0.421053   0.555556   0.5000\n",
       "282        1.05          -0.88     0.636364  ...  0.263158   1.000000   0.2500\n",
       "283        0.40          -0.80     0.363636  ... -0.052632   0.611111   1.1875\n",
       "284        0.35          -0.64     1.181818  ... -0.210526  -0.222222   0.5625\n",
       "285       -0.80          -0.56    -0.303030  ...  0.157895  -0.333333  -0.5000\n",
       "\n",
       "[286 rows x 11 columns]"
      ]
     },
     "execution_count": 23,
     "metadata": {},
     "output_type": "execute_result"
    }
   ],
   "source": [
    "x_test = pd.DataFrame(rb.transform(x_test), columns=feature_names)\n",
    "x_test"
   ]
  },
  {
   "cell_type": "markdown",
   "metadata": {},
   "source": [
    "### Modelling"
   ]
  },
  {
   "cell_type": "code",
   "execution_count": 24,
   "metadata": {},
   "outputs": [
    {
     "data": {
      "text/html": [
       "<div>\n",
       "<style scoped>\n",
       "    .dataframe tbody tr th:only-of-type {\n",
       "        vertical-align: middle;\n",
       "    }\n",
       "\n",
       "    .dataframe tbody tr th {\n",
       "        vertical-align: top;\n",
       "    }\n",
       "\n",
       "    .dataframe thead th {\n",
       "        text-align: right;\n",
       "    }\n",
       "</style>\n",
       "<table border=\"1\" class=\"dataframe\">\n",
       "  <thead>\n",
       "    <tr style=\"text-align: right;\">\n",
       "      <th></th>\n",
       "    </tr>\n",
       "  </thead>\n",
       "  <tbody>\n",
       "    <tr>\n",
       "      <th>BAS</th>\n",
       "    </tr>\n",
       "    <tr>\n",
       "      <th>AS</th>\n",
       "    </tr>\n",
       "    <tr>\n",
       "      <th>RAS</th>\n",
       "    </tr>\n",
       "  </tbody>\n",
       "</table>\n",
       "</div>"
      ],
      "text/plain": [
       "Empty DataFrame\n",
       "Columns: []\n",
       "Index: [BAS, AS, RAS]"
      ]
     },
     "execution_count": 24,
     "metadata": {},
     "output_type": "execute_result"
    }
   ],
   "source": [
    "# to merge all scores and metrics results altogether\n",
    "performance=pd.DataFrame(data=None, index=['BAS','AS', 'RAS'])\n",
    "performance"
   ]
  },
  {
   "cell_type": "code",
   "execution_count": 38,
   "metadata": {},
   "outputs": [],
   "source": [
    "# creating function to evaluate model at one run\n",
    "def evaluate(model,model_name):\n",
    "    performance[model_name]=[sm.balanced_accuracy_score(y_test, model.predict(x_test)),\n",
    "    sm.accuracy_score(y_test, model.predict(x_test)), \n",
    "    sm.roc_auc_score(y_test, model.predict_proba(x_test), multi_class='ovr')]\n",
    "    \n",
    "    print(sm.classification_report(y_test, model.predict(x_test)))\n",
    "    print(\"--------Balanced Accuracy Score--------\")\n",
    "    print(sm.balanced_accuracy_score(y_test, model.predict(x_test)))\n",
    "    print(\"-------Accuracy Score------------------\")\n",
    "    print(sm.accuracy_score(y_test, model.predict(x_test)))\n",
    "    print(\"-------ROC-AUC Score------------------\")\n",
    "    print(sm.roc_auc_score(y_test, model.predict_proba(x_test), multi_class='ovr'))\n",
    "    \n",
    "pd.options.display.float_format = '{:.3f}'.format"
   ]
  },
  {
   "cell_type": "markdown",
   "metadata": {},
   "source": [
    "#### Logistic regression"
   ]
  },
  {
   "cell_type": "markdown",
   "metadata": {},
   "source": [
    "We will do **Hyperparameter tuning** to find **otimal best** parameters in some models"
   ]
  },
  {
   "cell_type": "code",
   "execution_count": 39,
   "metadata": {},
   "outputs": [
    {
     "data": {
      "text/plain": [
       "GridSearchCV(estimator=LogisticRegression(),\n",
       "             param_grid={'C': [1, 10, 50, 100],\n",
       "                         'penalty': ('l1', 'l2', 'elastic', 'none')})"
      ]
     },
     "execution_count": 39,
     "metadata": {},
     "output_type": "execute_result"
    }
   ],
   "source": [
    "parameters = {'penalty':('l1','l2','elastic', 'none'),'C':[1, 10, 50, 100] }\n",
    "lr1 = slm.LogisticRegression()\n",
    "clf1 = sms.GridSearchCV(lr1, parameters)\n",
    "clf1.fit(x_train, y_train)"
   ]
  },
  {
   "cell_type": "code",
   "execution_count": 40,
   "metadata": {},
   "outputs": [
    {
     "name": "stdout",
     "output_type": "stream",
     "text": [
      "              precision    recall  f1-score   support\n",
      "\n",
      "           3       0.00      0.00      0.00         2\n",
      "           4       0.00      0.00      0.00         7\n",
      "           5       0.64      0.72      0.68       114\n",
      "           6       0.59      0.62      0.60       125\n",
      "           7       0.46      0.34      0.39        35\n",
      "           8       0.00      0.00      0.00         3\n",
      "\n",
      "    accuracy                           0.60       286\n",
      "   macro avg       0.28      0.28      0.28       286\n",
      "weighted avg       0.57      0.60      0.58       286\n",
      "\n",
      "--------Balanced Accuracy Score--------\n",
      "0.2796925647451964\n",
      "-------Accuracy Score------------------\n",
      "0.5979020979020979\n",
      "-------ROC-AUC Score------------------\n",
      "0.7554875824571262\n"
     ]
    }
   ],
   "source": [
    "evaluate(clf1, 'Log_reg_0.5')"
   ]
  },
  {
   "cell_type": "markdown",
   "metadata": {},
   "source": [
    "#### SVC classification model"
   ]
  },
  {
   "cell_type": "code",
   "execution_count": 43,
   "metadata": {
    "scrolled": true
   },
   "outputs": [
    {
     "data": {
      "text/plain": [
       "{'C': 1}"
      ]
     },
     "execution_count": 43,
     "metadata": {},
     "output_type": "execute_result"
    }
   ],
   "source": [
    "parameters = {'C':[1, 10, 50, 100] }\n",
    "svc = svm.SVC(probability=True)\n",
    "clf2 = sms.GridSearchCV(svc, parameters)\n",
    "clf2.fit(x_train, y_train)\n",
    "clf2.best_params_"
   ]
  },
  {
   "cell_type": "code",
   "execution_count": 44,
   "metadata": {},
   "outputs": [
    {
     "name": "stdout",
     "output_type": "stream",
     "text": [
      "              precision    recall  f1-score   support\n",
      "\n",
      "           3       0.00      0.00      0.00         2\n",
      "           4       0.00      0.00      0.00         7\n",
      "           5       0.63      0.71      0.67       114\n",
      "           6       0.58      0.67      0.62       125\n",
      "           7       0.46      0.17      0.25        35\n",
      "           8       0.00      0.00      0.00         3\n",
      "\n",
      "    accuracy                           0.60       286\n",
      "   macro avg       0.28      0.26      0.26       286\n",
      "weighted avg       0.56      0.60      0.57       286\n",
      "\n",
      "--------Balanced Accuracy Score--------\n",
      "0.2589924812030075\n",
      "-------Accuracy Score------------------\n",
      "0.5979020979020979\n",
      "-------ROC-AUC Score------------------\n",
      "0.8145129536172305\n"
     ]
    }
   ],
   "source": [
    "evaluate(clf2, 'SVC')"
   ]
  },
  {
   "cell_type": "code",
   "execution_count": 45,
   "metadata": {},
   "outputs": [
    {
     "data": {
      "text/html": [
       "<div>\n",
       "<style scoped>\n",
       "    .dataframe tbody tr th:only-of-type {\n",
       "        vertical-align: middle;\n",
       "    }\n",
       "\n",
       "    .dataframe tbody tr th {\n",
       "        vertical-align: top;\n",
       "    }\n",
       "\n",
       "    .dataframe thead th {\n",
       "        text-align: right;\n",
       "    }\n",
       "</style>\n",
       "<table border=\"1\" class=\"dataframe\">\n",
       "  <thead>\n",
       "    <tr style=\"text-align: right;\">\n",
       "      <th></th>\n",
       "      <th>SVC</th>\n",
       "    </tr>\n",
       "  </thead>\n",
       "  <tbody>\n",
       "    <tr>\n",
       "      <th>BAS</th>\n",
       "      <td>0.259</td>\n",
       "    </tr>\n",
       "    <tr>\n",
       "      <th>AS</th>\n",
       "      <td>0.598</td>\n",
       "    </tr>\n",
       "    <tr>\n",
       "      <th>RAS</th>\n",
       "      <td>0.815</td>\n",
       "    </tr>\n",
       "  </tbody>\n",
       "</table>\n",
       "</div>"
      ],
      "text/plain": [
       "      SVC\n",
       "BAS 0.259\n",
       "AS  0.598\n",
       "RAS 0.815"
      ]
     },
     "execution_count": 45,
     "metadata": {},
     "output_type": "execute_result"
    }
   ],
   "source": [
    "performance[['SVC']]"
   ]
  },
  {
   "cell_type": "markdown",
   "metadata": {},
   "source": [
    "### Ensemble methods"
   ]
  },
  {
   "cell_type": "markdown",
   "metadata": {},
   "source": [
    "#### RandomForest classification model"
   ]
  },
  {
   "cell_type": "code",
   "execution_count": 67,
   "metadata": {
    "scrolled": true
   },
   "outputs": [
    {
     "data": {
      "text/plain": [
       "{'n_estimators': 190}"
      ]
     },
     "execution_count": 67,
     "metadata": {},
     "output_type": "execute_result"
    }
   ],
   "source": [
    "parameters = { 'n_estimators':[i for i in range(150,250,10)] }\n",
    "rfc = ens.RandomForestClassifier(random_state=25)\n",
    "clf3 = sms.GridSearchCV(rfc, parameters)\n",
    "clf3.fit(x_train, y_train)\n",
    "\n",
    "clf3.best_params_"
   ]
  },
  {
   "cell_type": "code",
   "execution_count": 68,
   "metadata": {},
   "outputs": [
    {
     "name": "stdout",
     "output_type": "stream",
     "text": [
      "              precision    recall  f1-score   support\n",
      "\n",
      "           0       0.00      0.00      0.00         2\n",
      "           1       0.00      0.00      0.00         7\n",
      "           2       0.67      0.74      0.70       114\n",
      "           3       0.64      0.69      0.66       125\n",
      "           4       0.65      0.43      0.52        35\n",
      "           5       0.50      0.33      0.40         3\n",
      "\n",
      "    accuracy                           0.65       286\n",
      "   macro avg       0.41      0.36      0.38       286\n",
      "weighted avg       0.63      0.65      0.64       286\n",
      "\n",
      "--------Balanced Accuracy Score--------\n",
      "0.36445781119465326\n",
      "-------Accuracy Score------------------\n",
      "0.6503496503496503\n",
      "-------ROC-AUC Score------------------\n",
      "0.7663747892348876\n"
     ]
    }
   ],
   "source": [
    "evaluate(clf3, 'R_Forest')"
   ]
  },
  {
   "cell_type": "code",
   "execution_count": 48,
   "metadata": {},
   "outputs": [
    {
     "data": {
      "text/html": [
       "<div>\n",
       "<style scoped>\n",
       "    .dataframe tbody tr th:only-of-type {\n",
       "        vertical-align: middle;\n",
       "    }\n",
       "\n",
       "    .dataframe tbody tr th {\n",
       "        vertical-align: top;\n",
       "    }\n",
       "\n",
       "    .dataframe thead th {\n",
       "        text-align: right;\n",
       "    }\n",
       "</style>\n",
       "<table border=\"1\" class=\"dataframe\">\n",
       "  <thead>\n",
       "    <tr style=\"text-align: right;\">\n",
       "      <th></th>\n",
       "      <th>R_Forest</th>\n",
       "    </tr>\n",
       "  </thead>\n",
       "  <tbody>\n",
       "    <tr>\n",
       "      <th>BAS</th>\n",
       "      <td>0.364</td>\n",
       "    </tr>\n",
       "    <tr>\n",
       "      <th>AS</th>\n",
       "      <td>0.650</td>\n",
       "    </tr>\n",
       "    <tr>\n",
       "      <th>RAS</th>\n",
       "      <td>0.766</td>\n",
       "    </tr>\n",
       "  </tbody>\n",
       "</table>\n",
       "</div>"
      ],
      "text/plain": [
       "     R_Forest\n",
       "BAS     0.364\n",
       "AS      0.650\n",
       "RAS     0.766"
      ]
     },
     "execution_count": 48,
     "metadata": {},
     "output_type": "execute_result"
    }
   ],
   "source": [
    "performance[['R_Forest']]"
   ]
  },
  {
   "cell_type": "markdown",
   "metadata": {},
   "source": [
    "#### ExtraTree classification model"
   ]
  },
  {
   "cell_type": "code",
   "execution_count": 65,
   "metadata": {
    "scrolled": true
   },
   "outputs": [
    {
     "data": {
      "text/plain": [
       "{'n_estimators': 30}"
      ]
     },
     "execution_count": 65,
     "metadata": {},
     "output_type": "execute_result"
    }
   ],
   "source": [
    "parameters = { 'n_estimators':[i for i in range(20,150,10)] }\n",
    "etc = ens.ExtraTreesClassifier(random_state=25)\n",
    "clf4 = sms.GridSearchCV(etc, parameters)\n",
    "clf4.fit(x_train, y_train)\n",
    "\n",
    "clf4.best_params_"
   ]
  },
  {
   "cell_type": "code",
   "execution_count": 66,
   "metadata": {},
   "outputs": [
    {
     "name": "stdout",
     "output_type": "stream",
     "text": [
      "              precision    recall  f1-score   support\n",
      "\n",
      "           0       0.00      0.00      0.00         2\n",
      "           1       0.00      0.00      0.00         7\n",
      "           2       0.68      0.72      0.70       114\n",
      "           3       0.63      0.72      0.67       125\n",
      "           4       0.74      0.40      0.52        35\n",
      "           5       0.50      0.33      0.40         3\n",
      "\n",
      "    accuracy                           0.65       286\n",
      "   macro avg       0.42      0.36      0.38       286\n",
      "weighted avg       0.64      0.65      0.64       286\n",
      "\n",
      "--------Balanced Accuracy Score--------\n",
      "0.36210526315789476\n",
      "-------Accuracy Score------------------\n",
      "0.6538461538461539\n",
      "-------ROC-AUC Score------------------\n",
      "0.7772368566288068\n"
     ]
    }
   ],
   "source": [
    "evaluate(clf4, 'ExTree')"
   ]
  },
  {
   "cell_type": "markdown",
   "metadata": {},
   "source": [
    "#### GradientBoosting classification model"
   ]
  },
  {
   "cell_type": "code",
   "execution_count": 69,
   "metadata": {
    "scrolled": true
   },
   "outputs": [
    {
     "data": {
      "text/plain": [
       "{'learning_rate': 0.1, 'n_estimators': 220}"
      ]
     },
     "execution_count": 69,
     "metadata": {},
     "output_type": "execute_result"
    }
   ],
   "source": [
    "parameters = { 'learning_rate':[0.1,0.01,0.001], 'n_estimators':[50,100,180,200,220,250] }\n",
    "gbc = ens.GradientBoostingClassifier(random_state=25)\n",
    "clf5 = sms.GridSearchCV(gbc, parameters)\n",
    "clf5.fit(x_train, y_train)\n",
    "\n",
    "clf5.best_params_"
   ]
  },
  {
   "cell_type": "code",
   "execution_count": 70,
   "metadata": {},
   "outputs": [
    {
     "name": "stdout",
     "output_type": "stream",
     "text": [
      "              precision    recall  f1-score   support\n",
      "\n",
      "           0       0.00      0.00      0.00         2\n",
      "           1       0.25      0.14      0.18         7\n",
      "           2       0.66      0.72      0.69       114\n",
      "           3       0.62      0.66      0.64       125\n",
      "           4       0.74      0.40      0.52        35\n",
      "           5       0.25      0.33      0.29         3\n",
      "\n",
      "    accuracy                           0.63       286\n",
      "   macro avg       0.42      0.38      0.39       286\n",
      "weighted avg       0.63      0.63      0.63       286\n",
      "\n",
      "--------Balanced Accuracy Score--------\n",
      "0.37658145363408524\n",
      "-------Accuracy Score------------------\n",
      "0.6328671328671329\n",
      "-------ROC-AUC Score------------------\n",
      "0.677742538146453\n"
     ]
    }
   ],
   "source": [
    "evaluate(clf5, 'GradientBC')"
   ]
  },
  {
   "cell_type": "markdown",
   "metadata": {},
   "source": [
    "#### AdaBoost classification model"
   ]
  },
  {
   "cell_type": "code",
   "execution_count": 54,
   "metadata": {},
   "outputs": [
    {
     "data": {
      "text/plain": [
       "{'learning_rate': 0.1, 'n_estimators': 100}"
      ]
     },
     "execution_count": 54,
     "metadata": {},
     "output_type": "execute_result"
    }
   ],
   "source": [
    "parameters = { 'learning_rate':[0.1, 1, 2], 'n_estimators':[50,100,150,200]}\n",
    "abc = ens.AdaBoostClassifier(random_state=25)\n",
    "clf6 = sms.GridSearchCV(abc, parameters)\n",
    "clf6.fit(x_train, y_train)\n",
    "\n",
    "clf6.best_params_"
   ]
  },
  {
   "cell_type": "code",
   "execution_count": 55,
   "metadata": {},
   "outputs": [
    {
     "name": "stdout",
     "output_type": "stream",
     "text": [
      "              precision    recall  f1-score   support\n",
      "\n",
      "           3       0.00      0.00      0.00         2\n",
      "           4       0.00      0.00      0.00         7\n",
      "           5       0.60      0.65      0.62       114\n",
      "           6       0.55      0.66      0.60       125\n",
      "           7       0.60      0.17      0.27        35\n",
      "           8       0.00      0.00      0.00         3\n",
      "\n",
      "    accuracy                           0.57       286\n",
      "   macro avg       0.29      0.25      0.25       286\n",
      "weighted avg       0.55      0.57      0.54       286\n",
      "\n",
      "--------Balanced Accuracy Score--------\n",
      "0.24742522974101921\n",
      "-------Accuracy Score------------------\n",
      "0.5699300699300699\n",
      "-------ROC-AUC Score------------------\n",
      "0.7488464174762798\n"
     ]
    }
   ],
   "source": [
    "evaluate(clf6, 'AdaBC')"
   ]
  },
  {
   "cell_type": "markdown",
   "metadata": {},
   "source": [
    "#### XGBoost classification model"
   ]
  },
  {
   "cell_type": "code",
   "execution_count": 59,
   "metadata": {},
   "outputs": [],
   "source": [
    "newlabel_change = {3:0, 4:1, 5:2, 6:3, 7:4, 8:5}\n",
    "y_train = y_train['quality'].map(newlabel_change)\n",
    "y_test = y_test['quality'].map(newlabel_change)"
   ]
  },
  {
   "cell_type": "code",
   "execution_count": 75,
   "metadata": {},
   "outputs": [
    {
     "data": {
      "text/plain": [
       "{'gamma': 0.5, 'learning_rate': 0.05, 'max_depth': 3, 'n_estimators': 500}"
      ]
     },
     "execution_count": 75,
     "metadata": {},
     "output_type": "execute_result"
    }
   ],
   "source": [
    "parameters = {\n",
    "        'gamma': [0.5, 1, 1.5, 2, 5],\n",
    "        'max_depth': [3, 4, 5], \n",
    "    'learning_rate':[0.01, 0.02, 0.05], 'n_estimators':[100, 500, 1000]}\n",
    "\n",
    "xgbc = XGBClassifier()\n",
    "clf7 = sms.GridSearchCV(xgbc, parameters)\n",
    "clf7.fit(x_train, y_train)\n",
    "\n",
    "clf7.fit(x_train, y_train)\n",
    "clf7.best_params_"
   ]
  },
  {
   "cell_type": "code",
   "execution_count": 77,
   "metadata": {},
   "outputs": [
    {
     "name": "stdout",
     "output_type": "stream",
     "text": [
      "              precision    recall  f1-score   support\n",
      "\n",
      "           0       0.00      0.00      0.00         2\n",
      "           1       0.33      0.14      0.20         7\n",
      "           2       0.62      0.68      0.64       114\n",
      "           3       0.59      0.62      0.60       125\n",
      "           4       0.57      0.37      0.45        35\n",
      "           5       0.40      0.67      0.50         3\n",
      "\n",
      "    accuracy                           0.59       286\n",
      "   macro avg       0.42      0.41      0.40       286\n",
      "weighted avg       0.59      0.59      0.59       286\n",
      "\n",
      "--------Balanced Accuracy Score--------\n",
      "0.4120651629072682\n",
      "-------Accuracy Score------------------\n",
      "0.5944055944055944\n",
      "-------ROC-AUC Score------------------\n",
      "0.6869037081800352\n"
     ]
    }
   ],
   "source": [
    "evaluate(clf7, 'XGBC')"
   ]
  },
  {
   "cell_type": "markdown",
   "metadata": {},
   "source": [
    "#### XGBRFoost classification model"
   ]
  },
  {
   "cell_type": "code",
   "execution_count": 78,
   "metadata": {},
   "outputs": [
    {
     "data": {
      "text/plain": [
       "{'learning_rate': 0.04, 'max_depth': 4, 'n_estimators': 500}"
      ]
     },
     "execution_count": 78,
     "metadata": {},
     "output_type": "execute_result"
    }
   ],
   "source": [
    "parameters = {\n",
    "        'max_depth': [2, 3, 4], \n",
    "    'learning_rate':[0.04, 0.05, 0.06], 'n_estimators':[500, 600, 700]}\n",
    "\n",
    "xgbrfc = XGBRFClassifier()\n",
    "clf8 = sms.GridSearchCV(xgbrfc, parameters)\n",
    "clf8.fit(x_train, y_train)\n",
    "\n",
    "clf8.fit(x_train, y_train)\n",
    "clf8.best_params_"
   ]
  },
  {
   "cell_type": "code",
   "execution_count": 79,
   "metadata": {},
   "outputs": [
    {
     "name": "stdout",
     "output_type": "stream",
     "text": [
      "              precision    recall  f1-score   support\n",
      "\n",
      "           0       0.00      0.00      0.00         2\n",
      "           1       0.50      0.14      0.22         7\n",
      "           2       0.64      0.70      0.67       114\n",
      "           3       0.58      0.66      0.62       125\n",
      "           4       0.44      0.20      0.27        35\n",
      "           5       0.00      0.00      0.00         3\n",
      "\n",
      "    accuracy                           0.60       286\n",
      "   macro avg       0.36      0.28      0.30       286\n",
      "weighted avg       0.57      0.60      0.58       286\n",
      "\n",
      "--------Balanced Accuracy Score--------\n",
      "0.28476858813700917\n",
      "-------Accuracy Score------------------\n",
      "0.5979020979020979\n",
      "-------ROC-AUC Score------------------\n",
      "0.635444874305228\n"
     ]
    }
   ],
   "source": [
    "evaluate(clf8, 'XGBRFC')"
   ]
  },
  {
   "cell_type": "code",
   "execution_count": 80,
   "metadata": {},
   "outputs": [
    {
     "data": {
      "text/html": [
       "<div>\n",
       "<style scoped>\n",
       "    .dataframe tbody tr th:only-of-type {\n",
       "        vertical-align: middle;\n",
       "    }\n",
       "\n",
       "    .dataframe tbody tr th {\n",
       "        vertical-align: top;\n",
       "    }\n",
       "\n",
       "    .dataframe thead th {\n",
       "        text-align: right;\n",
       "    }\n",
       "</style>\n",
       "<table border=\"1\" class=\"dataframe\">\n",
       "  <thead>\n",
       "    <tr style=\"text-align: right;\">\n",
       "      <th></th>\n",
       "      <th>Log_reg_0.5</th>\n",
       "      <th>SVC</th>\n",
       "      <th>R_Forest</th>\n",
       "      <th>ExTree</th>\n",
       "      <th>GradientBC</th>\n",
       "      <th>AdaBC</th>\n",
       "      <th>XGBC</th>\n",
       "      <th>XGBRFC</th>\n",
       "    </tr>\n",
       "  </thead>\n",
       "  <tbody>\n",
       "    <tr>\n",
       "      <th>BAS</th>\n",
       "      <td>0.280</td>\n",
       "      <td>0.259</td>\n",
       "      <td>0.364</td>\n",
       "      <td>0.362</td>\n",
       "      <td>0.377</td>\n",
       "      <td>0.247</td>\n",
       "      <td>0.412</td>\n",
       "      <td>0.285</td>\n",
       "    </tr>\n",
       "    <tr>\n",
       "      <th>AS</th>\n",
       "      <td>0.598</td>\n",
       "      <td>0.598</td>\n",
       "      <td>0.650</td>\n",
       "      <td>0.654</td>\n",
       "      <td>0.633</td>\n",
       "      <td>0.570</td>\n",
       "      <td>0.594</td>\n",
       "      <td>0.598</td>\n",
       "    </tr>\n",
       "    <tr>\n",
       "      <th>RAS</th>\n",
       "      <td>0.755</td>\n",
       "      <td>0.815</td>\n",
       "      <td>0.766</td>\n",
       "      <td>0.777</td>\n",
       "      <td>0.678</td>\n",
       "      <td>0.749</td>\n",
       "      <td>0.687</td>\n",
       "      <td>0.635</td>\n",
       "    </tr>\n",
       "  </tbody>\n",
       "</table>\n",
       "</div>"
      ],
      "text/plain": [
       "     Log_reg_0.5   SVC  R_Forest  ExTree  GradientBC  AdaBC  XGBC  XGBRFC\n",
       "BAS        0.280 0.259     0.364   0.362       0.377  0.247 0.412   0.285\n",
       "AS         0.598 0.598     0.650   0.654       0.633  0.570 0.594   0.598\n",
       "RAS        0.755 0.815     0.766   0.777       0.678  0.749 0.687   0.635"
      ]
     },
     "execution_count": 80,
     "metadata": {},
     "output_type": "execute_result"
    }
   ],
   "source": [
    "performance"
   ]
  },
  {
   "cell_type": "code",
   "execution_count": null,
   "metadata": {},
   "outputs": [],
   "source": []
  },
  {
   "cell_type": "markdown",
   "metadata": {},
   "source": [
    "I merged evaluation metrics and scores of all models we trained into **\"performance\"** in order to make the comparison. So, that can be seen some models performed better like **XGBC, RandomForest, ExtraTree** models. Particularly, doing of **hyperparameter tuning** boosted performance on closer optimal values"
   ]
  },
  {
   "cell_type": "markdown",
   "metadata": {},
   "source": [
    "According to the comparison of models performances, the **XGBC(Extreme Gradient Boosting Classifier)** is the optimal model to pick and to utilize as the major"
   ]
  },
  {
   "cell_type": "markdown",
   "metadata": {},
   "source": [
    "**Thanks**"
   ]
  }
 ],
 "metadata": {
  "kernelspec": {
   "display_name": "Python 3 (ipykernel)",
   "language": "python",
   "name": "python3"
  },
  "language_info": {
   "codemirror_mode": {
    "name": "ipython",
    "version": 3
   },
   "file_extension": ".py",
   "mimetype": "text/x-python",
   "name": "python",
   "nbconvert_exporter": "python",
   "pygments_lexer": "ipython3",
   "version": "3.9.12"
  }
 },
 "nbformat": 4,
 "nbformat_minor": 2
}
